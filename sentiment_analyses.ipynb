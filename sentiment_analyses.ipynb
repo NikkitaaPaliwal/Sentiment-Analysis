{
  "nbformat": 4,
  "nbformat_minor": 0,
  "metadata": {
    "colab": {
      "name": "sentiment_own.ipynb",
      "provenance": []
    },
    "kernelspec": {
      "name": "python3",
      "display_name": "Python 3"
    }
  },
  "cells": [
    {
      "cell_type": "code",
      "metadata": {
        "id": "7SOePIdoELQA"
      },
      "source": [
        "# Import libraries\n",
        "import nltk.classify.util\n",
        "from nltk.classify import NaiveBayesClassifier\n",
        "from nltk.corpus import names"
      ],
      "execution_count": null,
      "outputs": []
    },
    {
      "cell_type": "code",
      "metadata": {
        "id": "AukZvRL7EMkr"
      },
      "source": [
        "# Initialise different vocabulary classes\n",
        "positive_vocab = [ 'amazing', 'adventure', 'beautiful', 'bravo', 'classical', 'delightful', 'excellent', 'exciting', 'fabulous', 'funny', 'fun', 'glamorous', 'knowledgeable', 'lovely', 'marvellous', 'motivating', 'positive', 'refreshing', 'rewarding', 'stunning', 'superb', 'terrific', 'thrilling', 'wonderful', 'wow', 'worthy', ':)' ]"
      ],
      "execution_count": null,
      "outputs": []
    },
    {
      "cell_type": "code",
      "metadata": {
        "id": "IRRYrN6yEVxu"
      },
      "source": [
        "negative_vocab = [   'annoying', 'bad', 'boring', 'dirty', 'fail', 'disgusting', 'unpredictable', 'uneven', 'dreadful', 'violent', 'senseless', 'confused', 'stupid', 'bland', 'tiresome', 'disappointing', 'uninteresting', 'outdated', 'terrible', 'useless', 'hate', ':(']\n"
      ],
      "execution_count": null,
      "outputs": []
    },
    {
      "cell_type": "code",
      "metadata": {
        "id": "MAjB4MOxEb0m"
      },
      "source": [
        "neutral_vocab = [   'ordinary', 'fast-moving', 'high-budget', 'dramatic','movie','the','sound','satisfactory','simple','was','is','actors','did','know','words','not' ]\n"
      ],
      "execution_count": null,
      "outputs": []
    },
    {
      "cell_type": "code",
      "metadata": {
        "id": "WGrpL_TQEjuF"
      },
      "source": [
        "# Convert words into features\n",
        "def word_feats(words):\n",
        "    return dict([(word, True) for word in words])\n",
        "\n",
        "positive_features = [(word_feats(positive_pred), 'positive_pred') for positive_pred in positive_vocab]\n",
        "negative_features = [(word_feats(negative_pred), 'negative_pred') for negative_pred in negative_vocab]\n",
        "neutral_features = [(word_feats(neutral_pred), 'neutral_pred') for neutral_pred in neutral_vocab] "
      ],
      "execution_count": null,
      "outputs": []
    },
    {
      "cell_type": "code",
      "metadata": {
        "id": "aZLdad2AEqYX"
      },
      "source": [
        "# Generate training dataset \n",
        "train_set = positive_features + negative_features + neutral_features"
      ],
      "execution_count": null,
      "outputs": []
    },
    {
      "cell_type": "code",
      "metadata": {
        "id": "sWOh0oWHEuAt"
      },
      "source": [
        "# Classify training data features\n",
        "classifier = NaiveBayesClassifier.train(train_set) "
      ],
      "execution_count": null,
      "outputs": []
    },
    {
      "cell_type": "code",
      "metadata": {
        "id": "MuoWUlvgExCf"
      },
      "source": [
        "# Split input text \n",
        "positive_pred = 0\n",
        "negative_pred = 0\n",
        "neutral_pred = 0 \n",
        "sentence = input('Enter the sentence: ')\n",
        "words = sentence.split(' ')"
      ],
      "execution_count": null,
      "outputs": []
    },
    {
      "cell_type": "code",
      "metadata": {
        "id": "jzTuntaZE2dZ"
      },
      "source": [
        "# Generate output\n",
        "\n",
        "for word in words:\n",
        "    output = classifier.classify( word_feats(word))\n",
        "    \n",
        "    if output == 'positive_pred':\n",
        "       positive_pred = positive_pred + 1\n",
        "\n",
        "    if output == 'negative_pred':\n",
        "        negative_pred = negative_pred + 1\n",
        "  \n",
        "    if output == 'neutral_pred':\n",
        "        neutral_pred = neutral_pred + 1"
      ],
      "execution_count": null,
      "outputs": []
    },
    {
      "cell_type": "code",
      "metadata": {
        "colab": {
          "base_uri": "https://localhost:8080/"
        },
        "id": "zXvno68BE7Qr",
        "outputId": "d40d5103-0638-41e1-eadd-9c29756ff4ab"
      },
      "source": [
        "print('Positive_review: ' + str(float(positive_pred)/len(words)))\n",
        "print('Negative_review: ' + str(float(negative_pred)/len(words)))\n",
        "print('Neutral_review: ' + str(float(neutral_pred)/len(words)))"
      ],
      "execution_count": null,
      "outputs": [
        {
          "output_type": "stream",
          "text": [
            "Positive_review: 0.8181818181818182\n",
            "Negative_review: 0.09090909090909091\n",
            "Neutral_review: 0.09090909090909091\n"
          ],
          "name": "stdout"
        }
      ]
    }
  ]
}